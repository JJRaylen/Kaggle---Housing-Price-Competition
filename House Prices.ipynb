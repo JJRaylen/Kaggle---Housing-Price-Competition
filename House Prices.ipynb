{
 "cells": [
  {
   "cell_type": "code",
   "execution_count": 1,
   "id": "9672941b",
   "metadata": {},
   "outputs": [],
   "source": [
    "%matplotlib inline\n",
    "\n",
    "import numpy as np\n",
    "import pandas as pd\n",
    "import seaborn as sns\n",
    "import matplotlib.pyplot as plt\n",
    "\n",
    "from sklearn.preprocessing import normalize\n",
    "from sklearn.model_selection import cross_val_score\n",
    "from sklearn.linear_model import Ridge"
   ]
  },
  {
   "cell_type": "markdown",
   "id": "6e1d4695",
   "metadata": {},
   "source": [
    "# Read in training and test data"
   ]
  },
  {
   "cell_type": "code",
   "execution_count": 2,
   "id": "6226e316",
   "metadata": {},
   "outputs": [],
   "source": [
    "df_train = pd.read_csv(\"./Data/train.csv\")\n",
    "df_test = pd.read_csv(\"./Data/test.csv\")"
   ]
  },
  {
   "cell_type": "markdown",
   "id": "7d8d2dd7",
   "metadata": {},
   "source": [
    "# Response variable"
   ]
  },
  {
   "cell_type": "code",
   "execution_count": 3,
   "id": "ceab4468",
   "metadata": {},
   "outputs": [],
   "source": [
    "y_train = df_train[['SalePrice']]\n",
    "y_train = y_train.fillna(y_train.mean()).values.ravel()\n",
    "y_train = np.log1p(y_train)"
   ]
  },
  {
   "cell_type": "markdown",
   "id": "d8f9240f",
   "metadata": {},
   "source": [
    "# Set up covariate matrix"
   ]
  },
  {
   "cell_type": "code",
   "execution_count": 4,
   "id": "dbb1641d",
   "metadata": {},
   "outputs": [],
   "source": [
    "X_train = df_train.drop(['Id', 'SalePrice'], axis=1)\n",
    "X_test = df_test.drop(['Id'], axis=1)\n",
    "X_all = pd.concat([X_train, X_test], axis=0)"
   ]
  },
  {
   "cell_type": "code",
   "execution_count": 5,
   "id": "1fc99c98",
   "metadata": {},
   "outputs": [],
   "source": [
    "X_all_cat = X_all.select_dtypes(include=['object'])\n",
    "X_all_num = X_all.select_dtypes(exclude=['object'])"
   ]
  },
  {
   "cell_type": "code",
   "execution_count": 6,
   "id": "984fbac5",
   "metadata": {},
   "outputs": [],
   "source": [
    "#create dummy variables for categorical variables\n",
    "X_all_cat = pd.get_dummies(X_all_cat)"
   ]
  },
  {
   "cell_type": "code",
   "execution_count": 7,
   "id": "7e7c0c57",
   "metadata": {},
   "outputs": [],
   "source": [
    "#impute missing values\n",
    "X_all_cat = X_all_cat.fillna(X_all_cat.mean())\n",
    "X_all_num = X_all_num.fillna(X_all_num.mean())"
   ]
  },
  {
   "cell_type": "code",
   "execution_count": 8,
   "id": "767fded3",
   "metadata": {},
   "outputs": [],
   "source": [
    "#concatenate variables\n",
    "X_all = pd.concat([X_all_cat, X_all_num], axis=1)\n",
    "\n",
    "#split again between train and test\n",
    "X_train = X_all[:df_train.shape[0]]\n",
    "X_test = X_all[df_train.shape[0]:]"
   ]
  },
  {
   "cell_type": "markdown",
   "id": "80dcaf9d",
   "metadata": {},
   "source": [
    "# Model fitting"
   ]
  },
  {
   "cell_type": "code",
   "execution_count": 10,
   "id": "732a57b3",
   "metadata": {},
   "outputs": [
    {
     "data": {
      "image/png": "[encoded data removed]",
      "text/plain": [
       "<Figure size 432x288 with 1 Axes>"
      ]
     },
     "metadata": {
      "needs_background": "light"
     },
     "output_type": "display_data"
    }
   ],
   "source": [
    "alphas = [0.05, 0.1, 0.3, 1, 3, 5, 10, 15, 30, 50, 75]\n",
    "\n",
    "models = [Ridge(random_state=0, alpha=a) for a in alphas]\n",
    "\n",
    "rmses = [np.sqrt(-cross_val_score(model, X_train, y_train, \n",
    "                               cv=5, scoring='neg_mean_squared_error')) \n",
    "         for model in models]\n",
    "\n",
    "plt.plot(alphas, [rmse.mean() for rmse in rmses]);"
   ]
  },
  {
   "cell_type": "markdown",
   "id": "5686b25a",
   "metadata": {},
   "source": [
    "# Make predictions"
   ]
  },
  {
   "cell_type": "code",
   "execution_count": 11,
   "id": "d9a2e6be",
   "metadata": {},
   "outputs": [],
   "source": [
    "model = Ridge(random_state=0, alpha=10)\n",
    "model.fit(X_train, y_train)\n",
    "yhat = model.predict(X_test)"
   ]
  },
  {
   "cell_type": "code",
   "execution_count": 12,
   "id": "797dc504",
   "metadata": {},
   "outputs": [],
   "source": [
    "submission = pd.DataFrame()\n",
    "submission['Id'] = df_test['Id']\n",
    "submission['SalePrice'] = np.exp(yhat) - 1"
   ]
  },
  {
   "cell_type": "code",
   "execution_count": 13,
   "id": "04da1af5",
   "metadata": {},
   "outputs": [],
   "source": [
    "submission.to_csv('ridge_regression_submission.csv',  index=False)"
   ]
  },
  {
   "cell_type": "code",
   "execution_count": 14,
   "id": "a591e5a8",
   "metadata": {},
   "outputs": [
    {
     "data": {
      "text/html": [
       "<div>\n",
       "<style scoped>\n",
       "    .dataframe tbody tr th:only-of-type {\n",
       "        vertical-align: middle;\n",
       "    }\n",
       "\n",
       "    .dataframe tbody tr th {\n",
       "        vertical-align: top;\n",
       "    }\n",
       "\n",
       "    .dataframe thead th {\n",
       "        text-align: right;\n",
       "    }\n",
       "</style>\n",
       "<table border=\"1\" class=\"dataframe\">\n",
       "  <thead>\n",
       "    <tr style=\"text-align: right;\">\n",
       "      <th></th>\n",
       "      <th>Id</th>\n",
       "      <th>SalePrice</th>\n",
       "    </tr>\n",
       "  </thead>\n",
       "  <tbody>\n",
       "    <tr>\n",
       "      <th>0</th>\n",
       "      <td>1461</td>\n",
       "      <td>113765.972202</td>\n",
       "    </tr>\n",
       "    <tr>\n",
       "      <th>1</th>\n",
       "      <td>1462</td>\n",
       "      <td>149447.707232</td>\n",
       "    </tr>\n",
       "    <tr>\n",
       "      <th>2</th>\n",
       "      <td>1463</td>\n",
       "      <td>171335.558667</td>\n",
       "    </tr>\n",
       "    <tr>\n",
       "      <th>3</th>\n",
       "      <td>1464</td>\n",
       "      <td>195440.238859</td>\n",
       "    </tr>\n",
       "    <tr>\n",
       "      <th>4</th>\n",
       "      <td>1465</td>\n",
       "      <td>197248.967362</td>\n",
       "    </tr>\n",
       "    <tr>\n",
       "      <th>...</th>\n",
       "      <td>...</td>\n",
       "      <td>...</td>\n",
       "    </tr>\n",
       "    <tr>\n",
       "      <th>1454</th>\n",
       "      <td>2915</td>\n",
       "      <td>85217.546428</td>\n",
       "    </tr>\n",
       "    <tr>\n",
       "      <th>1455</th>\n",
       "      <td>2916</td>\n",
       "      <td>84845.345813</td>\n",
       "    </tr>\n",
       "    <tr>\n",
       "      <th>1456</th>\n",
       "      <td>2917</td>\n",
       "      <td>159719.928241</td>\n",
       "    </tr>\n",
       "    <tr>\n",
       "      <th>1457</th>\n",
       "      <td>2918</td>\n",
       "      <td>111894.842310</td>\n",
       "    </tr>\n",
       "    <tr>\n",
       "      <th>1458</th>\n",
       "      <td>2919</td>\n",
       "      <td>226054.576518</td>\n",
       "    </tr>\n",
       "  </tbody>\n",
       "</table>\n",
       "<p>1459 rows × 2 columns</p>\n",
       "</div>"
      ],
      "text/plain": [
       "        Id      SalePrice\n",
       "0     1461  113765.972202\n",
       "1     1462  149447.707232\n",
       "2     1463  171335.558667\n",
       "3     1464  195440.238859\n",
       "4     1465  197248.967362\n",
       "...    ...            ...\n",
       "1454  2915   85217.546428\n",
       "1455  2916   84845.345813\n",
       "1456  2917  159719.928241\n",
       "1457  2918  111894.842310\n",
       "1458  2919  226054.576518\n",
       "\n",
       "[1459 rows x 2 columns]"
      ]
     },
     "execution_count": 14,
     "metadata": {},
     "output_type": "execute_result"
    }
   ],
   "source": [
    "submission"
   ]
  },
  {
   "cell_type": "code",
   "execution_count": null,
   "id": "24047d91",
   "metadata": {},
   "outputs": [],
   "source": []
  }
 ],
 "metadata": {
  "kernelspec": {
   "display_name": "Python 3 (ipykernel)",
   "language": "python",
   "name": "python3"
  },
  "language_info": {
   "codemirror_mode": {
    "name": "ipython",
    "version": 3
   },
   "file_extension": ".py",
   "mimetype": "text/x-python",
   "name": "python",
   "nbconvert_exporter": "python",
   "pygments_lexer": "ipython3",
   "version": "3.9.12"
  }
 },
 "nbformat": 4,
 "nbformat_minor": 5
}
