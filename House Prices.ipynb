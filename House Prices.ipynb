{
 "cells": [
  {
   "cell_type": "code",
   "execution_count": 2,
   "id": "9672941b",
   "metadata": {},
   "outputs": [],
   "source": [
    "%matplotlib inline\n",
    "\n",
    "import numpy as np\n",
    "import pandas as pd\n",
    "import seaborn as sns\n",
    "import matplotlib.pyplot as plt\n",
    "\n",
    "from sklearn.preprocessing import normalize\n",
    "from sklearn.model_selection import cross_val_score\n",
    "from sklearn.linear_model import Ridge"
   ]
  },
  {
   "cell_type": "markdown",
   "id": "6e1d4695",
   "metadata": {},
   "source": [
    "# Read in training and test data"
   ]
  },
  {
   "cell_type": "code",
   "execution_count": 3,
   "id": "6226e316",
   "metadata": {},
   "outputs": [],
   "source": [
    "df_train = pd.read_csv(\"./Data/train.csv\")\n",
    "df_test = pd.read_csv(\"./Data/test.csv\")"
   ]
  },
  {
   "cell_type": "markdown",
   "id": "7d8d2dd7",
   "metadata": {},
   "source": [
    "# Response variable"
   ]
  },
  {
   "cell_type": "code",
   "execution_count": 4,
   "id": "ceab4468",
   "metadata": {},
   "outputs": [],
   "source": [
    "y_train = df_train[['SalePrice']]\n",
    "y_train = y_train.fillna(y_train.mean()).values.ravel()\n",
    "y_train = np.log1p(y_train)"
   ]
  },
  {
   "cell_type": "markdown",
   "id": "d8f9240f",
   "metadata": {},
   "source": [
    "# Set up covariate matrix"
   ]
  },
  {
   "cell_type": "code",
   "execution_count": 5,
   "id": "dbb1641d",
   "metadata": {},
   "outputs": [],
   "source": [
    "X_train = df_train.drop(['Id', 'SalePrice'], axis=1)\n",
    "X_test = df_test.drop(['Id'], axis=1)\n",
    "X_all = pd.concat([X_train, X_test], axis=0)"
   ]
  },
  {
   "cell_type": "code",
   "execution_count": 6,
   "id": "1fc99c98",
   "metadata": {},
   "outputs": [],
   "source": [
    "X_all_cat = X_all.select_dtypes(include=['object'])\n",
    "X_all_num = X_all.select_dtypes(exclude=['object'])"
   ]
  },
  {
   "cell_type": "code",
   "execution_count": 7,
   "id": "984fbac5",
   "metadata": {},
   "outputs": [],
   "source": [
    "#create dummy variables for categorical variables\n",
    "X_all_cat = pd.get_dummies(X_all_cat)"
   ]
  },
  {
   "cell_type": "code",
   "execution_count": 8,
   "id": "7e7c0c57",
   "metadata": {},
   "outputs": [],
   "source": [
    "#impute missing values\n",
    "X_all_cat = X_all_cat.fillna(X_all_cat.mean())\n",
    "X_all_num = X_all_num.fillna(X_all_num.mean())"
   ]
  },
  {
   "cell_type": "code",
   "execution_count": null,
   "id": "767fded3",
   "metadata": {},
   "outputs": [],
   "source": []
  }
 ],
 "metadata": {
  "kernelspec": {
   "display_name": "Python 3 (ipykernel)",
   "language": "python",
   "name": "python3"
  },
  "language_info": {
   "codemirror_mode": {
    "name": "ipython",
    "version": 3
   },
   "file_extension": ".py",
   "mimetype": "text/x-python",
   "name": "python",
   "nbconvert_exporter": "python",
   "pygments_lexer": "ipython3",
   "version": "3.9.12"
  }
 },
 "nbformat": 4,
 "nbformat_minor": 5
}
